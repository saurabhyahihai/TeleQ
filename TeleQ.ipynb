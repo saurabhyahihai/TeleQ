{
 "cells": [
  {
   "cell_type": "markdown",
   "metadata": {
    "id": "Q7K1vcYxCWfS"
   },
   "source": [
    "Running the next cell is not necessary if the required packages are already installed"
   ]
  },
  {
   "cell_type": "code",
   "execution_count": null,
   "metadata": {
    "id": "wBP5P_ZKCnVb"
   },
   "outputs": [],
   "source": [
    "!pip install qiskit[visualization]==0.43.3\n",
    "!pip install qiskit-aer"
   ]
  },
  {
   "cell_type": "markdown",
   "metadata": {
    "id": "Vzj6wxPdC0ZG"
   },
   "source": [
    "The next cell imports the necessary libraries. Running it is necessary.\n",
    "\n",
    "In this notebook, the application is implemented using the Qiskit framework."
   ]
  },
  {
   "cell_type": "code",
   "execution_count": 1,
   "metadata": {
    "id": "S0jHrKFU6KKd"
   },
   "outputs": [],
   "source": [
    "from qiskit import QuantumCircuit, QuantumRegister, ClassicalRegister, Aer, execute\n",
    "from random import randrange"
   ]
  },
  {
   "cell_type": "markdown",
   "metadata": {
    "id": "wp2fvyUTDBNn"
   },
   "source": [
    "Following cell is the main teleportation function. The `teleport_bit` function teleports a single bit (0 or 1) using one of four Bell states ($|\\Phi^+\\rangle, |\\Phi^-\\rangle, |\\Psi^+\\rangle, |\\Psi^-\\rangle$) chosen randomly. The teleported bit is stored in `global_received_bits`.\n",
    "\n",
    "#### How it Ensures Security\n",
    "1. **Random Bell State Selection:** The function randomly selects one of four Bell states, making it hard for an eavesdropper to infer the entanglement correlation.\n",
    "2. **Classical Channel Uncertainty:** Intercepted classical bits ($c_1, c_2$) alone are insufficient to reconstruct the teleported bit without knowledge of the Bell state.\n",
    "3. **Quantum Principles:** The no-cloning theorem ensures the original quantum state cannot be copied, preserving security.\n",
    "\n",
    "#### Probability of Guessing a Byte\n",
    "- To guess one bit correctly, an eavesdropper must identify the Bell state ($\\frac{1}{4}$ chance).\n",
    "- For a byte (8 bits):\n",
    "\n",
    " $P_{correct}=(\\frac{1}{4})^{8}=(\\frac{1}{65,536})\\approx0.0015\\%$\n",
    "\n",
    "Thus, guessing the entire byte is highly improbable. When guessing strings of thousands of characters, it becomes even harder, or in simple words, almost impossible.\n"
   ]
  },
  {
   "cell_type": "code",
   "execution_count": 2,
   "metadata": {
    "id": "_xdr1_suaR2a"
   },
   "outputs": [],
   "source": [
    "# Global list to store received bits\n",
    "global_received_bits = []\n",
    "\n",
    "def teleport_bit(bit):\n",
    "    # Create quantum and classical registers\n",
    "    q = QuantumRegister(3, \"q\")\n",
    "    c = ClassicalRegister(3, \"c\")\n",
    "    qc = QuantumCircuit(q, c)\n",
    "\n",
    "    # The Bell states used for teleportation are |phi+>, |phi->, |psi+>, and |psi->\n",
    "    # represented by 1, 2, 3, and 4 respectively\n",
    "\n",
    "    # Prepare entanglement\n",
    "    state = randrange(1, 5)\n",
    "    if state == 1:\n",
    "        # State is |phi+>\n",
    "        qc.h(q[1])\n",
    "        qc.cx(q[1], q[0])\n",
    "    elif state == 2:\n",
    "        # State is |phi->\n",
    "        qc.h(q[1])\n",
    "        qc.cx(q[1], q[0])\n",
    "        qc.z(q[1])\n",
    "    elif state == 3:\n",
    "        # State is |psi+>\n",
    "        qc.h(q[0])\n",
    "        qc.cx(q[0], q[1])\n",
    "    else:\n",
    "        # State is |psi->\n",
    "        qc.h(q[0])\n",
    "        qc.cx(q[0], q[1])\n",
    "        qc.z(q[1])\n",
    "\n",
    "    # Encode the bit in the message qubit\n",
    "    if bit == 1:\n",
    "        qc.x(q[2])\n",
    "\n",
    "    # Teleportation operations\n",
    "    qc.cx(q[2], q[1])\n",
    "    qc.h(q[2])\n",
    "\n",
    "    # Measure the qubits\n",
    "    qc.measure(q[2], c[2])\n",
    "    qc.measure(q[1], c[1])\n",
    "\n",
    "    # Apply corrections\n",
    "    qc.x(q[0]).c_if(c[1], 1)  # Apply X correction\n",
    "    qc.z(q[0]).c_if(c[2], 1)  # Apply Z correction\n",
    "\n",
    "    # Measure the receiver qubit\n",
    "    qc.measure(q[0], c[0])\n",
    "\n",
    "    # Execute the circuit\n",
    "    backend = Aer.get_backend(\"qasm_simulator\")\n",
    "    job = execute(qc, backend, shots=1)\n",
    "    count = job.result().get_counts(qc)\n",
    "\n",
    "    # Extract the teleported bit\n",
    "    received_bit = int(list(count.keys())[0][2])\n",
    "    global_received_bits.append(received_bit)\n"
   ]
  },
  {
   "cell_type": "markdown",
   "metadata": {
    "id": "mBXLgFcaDQyC"
   },
   "source": [
    "Following function converts a given string to binary bits and adds them in the list `binary_list`."
   ]
  },
  {
   "cell_type": "code",
   "execution_count": 3,
   "metadata": {
    "id": "s4Bsv6JqB65_"
   },
   "outputs": [],
   "source": [
    "# Function to convert a string to a list of binary bits\n",
    "def string_to_binary(input_string):\n",
    "    binary_list = []\n",
    "    for char in input_string:\n",
    "        binary_representation = format(ord(char), '08b')  # Convert character to 8-bit binary\n",
    "        binary_list.extend([int(bit) for bit in binary_representation])\n",
    "    return binary_list"
   ]
  },
  {
   "cell_type": "markdown",
   "metadata": {
    "id": "cfe2LDRFDj47"
   },
   "source": [
    "Following function converts the received binary bits back to the ASCII characters. It is required to present the information to the receiver in a readable format."
   ]
  },
  {
   "cell_type": "code",
   "execution_count": 4,
   "metadata": {
    "id": "0AzBP_FyB_nG"
   },
   "outputs": [],
   "source": [
    "# Function to convert binary bits to ASCII characters\n",
    "def binary_to_string(binary_list):\n",
    "    chars = []\n",
    "    for i in range(0, len(binary_list), 8):\n",
    "        byte = binary_list[i:i+8]  # Take 8 bits at a time\n",
    "        char = chr(int(''.join(map(str, byte)), 2))  # Convert to ASCII\n",
    "        chars.append(char)\n",
    "    return ''.join(chars)"
   ]
  },
  {
   "cell_type": "markdown",
   "metadata": {
    "id": "gikb_JvXDzpb"
   },
   "source": [
    "Following cell contains the interaction part of the program. It asks the user for the message to be teleported.\n",
    "\n",
    "It also presents a sample quantum circuit to the user, telling them about the backbone of the communication.\n",
    "\n",
    "Then the prepared qubit is quantum-teleported by the function `teleport_bit()` and received by the receiver at their end.\n",
    "\n",
    "Lastly, the received message is presented as both binary and readable format for the receiver."
   ]
  },
  {
   "cell_type": "code",
   "execution_count": 5,
   "metadata": {
    "colab": {
     "base_uri": "https://localhost:8080/",
     "height": 669
    },
    "id": "YeHWWFnFCDWc",
    "outputId": "1d7fae66-caf5-48ec-c0b2-d61262836e72"
   },
   "outputs": [
    {
     "name": "stdout",
     "output_type": "stream",
     "text": [
      "Enter a message to be teleported: Innovation begins with understanding the quantum world.\n",
      "\n",
      "Binary Representation:\n",
      " [0, 1, 0, 0, 1, 0, 0, 1, 0, 1, 1, 0, 1, 1, 1, 0, 0, 1, 1, 0, 1, 1, 1, 0, 0, 1, 1, 0, 1, 1, 1, 1, 0, 1, 1, 1, 0, 1, 1, 0, 0, 1, 1, 0, 0, 0, 0, 1, 0, 1, 1, 1, 0, 1, 0, 0, 0, 1, 1, 0, 1, 0, 0, 1, 0, 1, 1, 0, 1, 1, 1, 1, 0, 1, 1, 0, 1, 1, 1, 0, 0, 0, 1, 0, 0, 0, 0, 0, 0, 1, 1, 0, 0, 0, 1, 0, 0, 1, 1, 0, 0, 1, 0, 1, 0, 1, 1, 0, 0, 1, 1, 1, 0, 1, 1, 0, 1, 0, 0, 1, 0, 1, 1, 0, 1, 1, 1, 0, 0, 1, 1, 1, 0, 0, 1, 1, 0, 0, 1, 0, 0, 0, 0, 0, 0, 1, 1, 1, 0, 1, 1, 1, 0, 1, 1, 0, 1, 0, 0, 1, 0, 1, 1, 1, 0, 1, 0, 0, 0, 1, 1, 0, 1, 0, 0, 0, 0, 0, 1, 0, 0, 0, 0, 0, 0, 1, 1, 1, 0, 1, 0, 1, 0, 1, 1, 0, 1, 1, 1, 0, 0, 1, 1, 0, 0, 1, 0, 0, 0, 1, 1, 0, 0, 1, 0, 1, 0, 1, 1, 1, 0, 0, 1, 0, 0, 1, 1, 1, 0, 0, 1, 1, 0, 1, 1, 1, 0, 1, 0, 0, 0, 1, 1, 0, 0, 0, 0, 1, 0, 1, 1, 0, 1, 1, 1, 0, 0, 1, 1, 0, 0, 1, 0, 0, 0, 1, 1, 0, 1, 0, 0, 1, 0, 1, 1, 0, 1, 1, 1, 0, 0, 1, 1, 0, 0, 1, 1, 1, 0, 0, 1, 0, 0, 0, 0, 0, 0, 1, 1, 1, 0, 1, 0, 0, 0, 1, 1, 0, 1, 0, 0, 0, 0, 1, 1, 0, 0, 1, 0, 1, 0, 0, 1, 0, 0, 0, 0, 0, 0, 1, 1, 1, 0, 0, 0, 1, 0, 1, 1, 1, 0, 1, 0, 1, 0, 1, 1, 0, 0, 0, 0, 1, 0, 1, 1, 0, 1, 1, 1, 0, 0, 1, 1, 1, 0, 1, 0, 0, 0, 1, 1, 1, 0, 1, 0, 1, 0, 1, 1, 0, 1, 1, 0, 1, 0, 0, 1, 0, 0, 0, 0, 0, 0, 1, 1, 1, 0, 1, 1, 1, 0, 1, 1, 0, 1, 1, 1, 1, 0, 1, 1, 1, 0, 0, 1, 0, 0, 1, 1, 0, 1, 1, 0, 0, 0, 1, 1, 0, 0, 1, 0, 0, 0, 0, 1, 0, 1, 1, 1, 0]\n",
      "\n",
      "\n",
      "A sample representation of the teleportation circuit (default bit is 0):\n"
     ]
    },
    {
     "data": {
      "image/png": "[encoded data removed]",
      "text/plain": [
       "<Figure size 789.163x535.111 with 1 Axes>"
      ]
     },
     "metadata": {},
     "output_type": "display_data"
    },
    {
     "name": "stdout",
     "output_type": "stream",
     "text": [
      "\n",
      "Received Bits: [0, 1, 0, 0, 1, 0, 0, 1, 0, 1, 1, 0, 1, 1, 1, 0, 0, 1, 1, 0, 1, 1, 1, 0, 0, 1, 1, 0, 1, 1, 1, 1, 0, 1, 1, 1, 0, 1, 1, 0, 0, 1, 1, 0, 0, 0, 0, 1, 0, 1, 1, 1, 0, 1, 0, 0, 0, 1, 1, 0, 1, 0, 0, 1, 0, 1, 1, 0, 1, 1, 1, 1, 0, 1, 1, 0, 1, 1, 1, 0, 0, 0, 1, 0, 0, 0, 0, 0, 0, 1, 1, 0, 0, 0, 1, 0, 0, 1, 1, 0, 0, 1, 0, 1, 0, 1, 1, 0, 0, 1, 1, 1, 0, 1, 1, 0, 1, 0, 0, 1, 0, 1, 1, 0, 1, 1, 1, 0, 0, 1, 1, 1, 0, 0, 1, 1, 0, 0, 1, 0, 0, 0, 0, 0, 0, 1, 1, 1, 0, 1, 1, 1, 0, 1, 1, 0, 1, 0, 0, 1, 0, 1, 1, 1, 0, 1, 0, 0, 0, 1, 1, 0, 1, 0, 0, 0, 0, 0, 1, 0, 0, 0, 0, 0, 0, 1, 1, 1, 0, 1, 0, 1, 0, 1, 1, 0, 1, 1, 1, 0, 0, 1, 1, 0, 0, 1, 0, 0, 0, 1, 1, 0, 0, 1, 0, 1, 0, 1, 1, 1, 0, 0, 1, 0, 0, 1, 1, 1, 0, 0, 1, 1, 0, 1, 1, 1, 0, 1, 0, 0, 0, 1, 1, 0, 0, 0, 0, 1, 0, 1, 1, 0, 1, 1, 1, 0, 0, 1, 1, 0, 0, 1, 0, 0, 0, 1, 1, 0, 1, 0, 0, 1, 0, 1, 1, 0, 1, 1, 1, 0, 0, 1, 1, 0, 0, 1, 1, 1, 0, 0, 1, 0, 0, 0, 0, 0, 0, 1, 1, 1, 0, 1, 0, 0, 0, 1, 1, 0, 1, 0, 0, 0, 0, 1, 1, 0, 0, 1, 0, 1, 0, 0, 1, 0, 0, 0, 0, 0, 0, 1, 1, 1, 0, 0, 0, 1, 0, 1, 1, 1, 0, 1, 0, 1, 0, 1, 1, 0, 0, 0, 0, 1, 0, 1, 1, 0, 1, 1, 1, 0, 0, 1, 1, 1, 0, 1, 0, 0, 0, 1, 1, 1, 0, 1, 0, 1, 0, 1, 1, 0, 1, 1, 0, 1, 0, 0, 1, 0, 0, 0, 0, 0, 0, 1, 1, 1, 0, 1, 1, 1, 0, 1, 1, 0, 1, 1, 1, 1, 0, 1, 1, 1, 0, 0, 1, 0, 0, 1, 1, 0, 1, 1, 0, 0, 0, 1, 1, 0, 0, 1, 0, 0, 0, 0, 1, 0, 1, 1, 1, 0]\n",
      "\n",
      "Received Message: Innovation begins with understanding the quantum world.\n"
     ]
    }
   ],
   "source": [
    "# Step 1: Get user input\n",
    "user_input = input(\"Enter a message to be teleported: \")\n",
    "\n",
    "# Step 2: Convert the string to binary\n",
    "binary_data = string_to_binary(user_input)\n",
    "print(\"\\nBinary Representation:\\n\", binary_data)\n",
    "global_received_bits = []\n",
    "\n",
    "print(\"\\n\\nA sample representation of the teleportation circuit (default bit is 0):\")\n",
    "\n",
    "q = QuantumRegister(3, \"q\")\n",
    "c = ClassicalRegister(3, \"c\")\n",
    "qc = QuantumCircuit(q, c)\n",
    "# Prepare entanglement\n",
    "qc.h(q[1])\n",
    "qc.cx(q[1], q[0])\n",
    "# No encoding needed for bit 0 (considering bell state |phi+> and message bit as 0)\n",
    "# Teleportation operations\n",
    "qc.cx(q[2], q[1])\n",
    "qc.h(q[2])\n",
    "# Measure the qubits\n",
    "qc.measure(q[2], c[2])\n",
    "qc.measure(q[1], c[1])\n",
    "# Apply corrections\n",
    "qc.x(q[0]).c_if(c[1], 1)\n",
    "qc.z(q[0]).c_if(c[2], 1)\n",
    "# Measure the receiver qubit\n",
    "qc.measure(q[0], c[0])\n",
    "# Print the quantum circuit\n",
    "display(qc.draw(output = 'mpl', reverse_bits = True))\n",
    "\n",
    "# Step 3: Teleport each bit\n",
    "for bit in binary_data:\n",
    "    teleport_bit(bit)\n",
    "\n",
    "# Step 4: Print received bits\n",
    "print(\"\\nReceived Bits:\", global_received_bits)\n",
    "\n",
    "# Step 5: Convert received bits to ASCII characters\n",
    "received_string = binary_to_string(global_received_bits)\n",
    "print(\"\\nReceived Message:\", received_string)"
   ]
  },
  {
   "cell_type": "markdown",
   "metadata": {
    "id": "8eOfu40hE1Zw"
   },
   "source": [
    "### More Information\n",
    "\n",
    "This program showcases quantum teleportation for secure communication. Given the current limitations in accessing actual quantum computers and physical quantum channels, this demonstration is conducted on a simulator. While simulators can replicate quantum operations, they cannot physically distribute entangled qubits across different devices, which is crucial for real-world quantum teleportation. Therefore, the entire teleportation process is simulated on a single device.\n",
    "\n",
    "Quantum teleportation is fundamentally secure because it is based on the principles of quantum mechanics, such as entanglement and the no-cloning theorem. These principles ensure that any attempt to intercept or duplicate the quantum state would disturb the system, making eavesdropping detectable. In a practical scenario, with access to quantum hardware and channels, this program could be implemented with minimal adjustments to achieve secure real-world teleportation.\n",
    "\n",
    "According to Wikipedia\n",
    "- **Quantum Entanglement**: Quantum entanglement is the phenomenon of a group of particles being generated, interacting, or sharing spatial proximity in such a way that the quantum state of each particle of the group cannot be described independently of the state of the others, including when the particles are separated by a large distance.\n",
    "- **No-Cloning Theorem**: In physics, the no-cloning theorem states that it is impossible to create an independent and identical copy of an arbitrary unknown quantum state, a statement which has profound implications in the field of quantum computing among others.\n",
    "\n",
    "<br>\n",
    "Saurabh Suman<br>2<sup>nd</sup> year student (2023-27) at E&TC Deptt<br>Jabalpur Engineering College"
   ]
  }
 ],
 "metadata": {
  "colab": {
   "provenance": []
  },
  "kernelspec": {
   "display_name": "Python 3 (ipykernel)",
   "language": "python",
   "name": "python3"
  },
  "language_info": {
   "codemirror_mode": {
    "name": "ipython",
    "version": 3
   },
   "file_extension": ".py",
   "mimetype": "text/x-python",
   "name": "python",
   "nbconvert_exporter": "python",
   "pygments_lexer": "ipython3",
   "version": "3.12.4"
  }
 },
 "nbformat": 4,
 "nbformat_minor": 4
}
